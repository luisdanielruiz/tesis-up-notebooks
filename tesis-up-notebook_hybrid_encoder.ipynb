{
 "cells": [
  {
   "attachments": {},
   "cell_type": "markdown",
   "metadata": {
    "_cell_guid": "fb39bfef-8618-4a41-a07d-083143bfd361",
    "_uuid": "a3ee560a-142c-45f2-9ffb-5a098dc753b0"
   },
   "source": [
    "# FCNN (Fully Convolutional Neural Network)\n",
    "\n",
    "Este tipo de arquitecturas son conformadas por dos bloques principales, que conforman una trayectoria de codificador-decodificador o una trayectoria expansiva de contracción equivalente. En la figura se observan estas dos etapas y se muestra un ejemplo de cómo las características extraídas se hacen más particulares o especificas a medida que se profundiza en la red.\n",
    "\n",
    "Los codificadores-decodificadores pueden definirse así:\n",
    "\n",
    "* **Codificador (parte izquierda de la red)**: Codifica la imagen en una representación abstracta de las características de la imagen aplicando una secuencia de bloques convolucionales que disminuyen gradualmente la altura y la anchura de la representación, pero un número creciente de canales que corresponden a las características de la imagen.\n",
    "\n",
    "* **Decodificador (parte derecha de la red)**: Decodifica la representación de la imagen en una máscara binaria aplicando una secuencia de convoluciones ascendentes (NO es lo mismo que la deconvolución) que aumenta gradualmente la altura y la anchura de la representación hasta el tamaño de la imagen original y disminuye el número de canales hasta el número de clases que estamos segmentando.\n",
    "\n",
    "\n",
    "<div style=\"width:100%;text-align: center;\">\n",
    "<img src=\"https://i.imgur.com/WNCNVHS.png\" width=\"800\" height=\"400\"/>\n",
    "</div>\n",
    "\n",
    "La FCNN es la arquitectura más utilizada para la segmentación de imágenes, entre ellas, se utiliza una en particular para imagenes médicas y se conoce como red U-net la cual tiene conexiones entre los dos bloques principales con el fin de aportar información a la etapa de reconstrucción del mapa de características."
   ]
  },
  {
   "attachments": {},
   "cell_type": "markdown",
   "metadata": {
    "_cell_guid": "6777468b-899d-4c76-ada3-6cd225466cc7",
    "_uuid": "64d4040c-0c8d-4bc5-b64e-554c06052de3"
   },
   "source": [
    "# Objetivo de las redes U-Net\n",
    "U-Net es una arquitectura de red convolucional para la segmentación rápida y precisa de imágenes. La intención de U-Net es captar tanto las características del contexto como las de la ubicación. La idea principal de la aplicación es utilizar capas de contracción sucesivas, a las que siguen inmediatamente operadores de remuestreo para obtener salidas de mayor resolución en las imágenes de entrada. \n",
    "# Arquitectura UNET\n",
    "  \n",
    "\n",
    "<div>\n",
    "<img src=\"https://lmb.informatik.uni-freiburg.de/people/ronneber/u-net/u-net-architecture.png\" width=\"900\" height=\"800\"/>\n",
    "</div>\n",
    "\n",
    "\n",
    "Al visualizar la forma de la arquitectura de la red, podemos ver por qué probablemente se llama U-Net. La arquitectura tiene forma de U, de ahí su nombre. La arquitectura de la red se ilustra en la figura anterior. Consta de una vía de contracción (lado izquierdo) y una vía de expansión (lado derecho) al igual que las FCNN y además contiene la conexión entre los dos bloque como se mencionó anteriormente. La ruta de contracción sigue la arquitectura típica de una red convolucional (CNN)."
   ]
  },
  {
   "attachments": {},
   "cell_type": "markdown",
   "metadata": {
    "_cell_guid": "7670eb86-c6b6-46a4-b338-685caaf001c9",
    "_uuid": "dab1132a-8486-4526-b3c8-dbdb84a9bc3d"
   },
   "source": [
    "# Database para aplicar modelo U-net\n",
    "La base de datos utilizada consiste en 800 imágenes de radiografía de tórax donde 394 imágenes corresponden a una manifestación de tuberculosis y 406 corresponden a radigrafías normales o de personas sanas. Esta base de datos es una combinación de dos bases de datos conocidas en el estado del arte para radiografía de tórax (Montgomery y Shenzen database).\n",
    "\n",
    "## Etapas de pre-procesamiento y entrenamiento\n",
    "1. Cargar la base de datos\n",
    "2. Preparación de los datos\n",
    "3. Imágenes de entrenamiento y de prueba\n",
    "4. Construyendo una red U-net\n",
    "5. Entrenamiento del modelo U-net\n",
    "6. Métricas y validacón"
   ]
  },
  {
   "attachments": {},
   "cell_type": "markdown",
   "metadata": {
    "_cell_guid": "0dafc0a7-c0a6-435f-be7e-0476474a0fd8",
    "_uuid": "2d7e0872-6e6e-491b-b507-6de922fbbacc"
   },
   "source": [
    "# Configuración"
   ]
  },
  {
   "cell_type": "code",
   "execution_count": 1,
   "metadata": {
    "_cell_guid": "5c48926a-69ac-4877-af32-9fd330f6ea8a",
    "_uuid": "c00aafff-b078-4bf6-aaf1-d1a27996554e",
    "execution": {
     "iopub.execute_input": "2023-03-31T14:40:08.041368Z",
     "iopub.status.busy": "2023-03-31T14:40:08.040815Z",
     "iopub.status.idle": "2023-03-31T14:40:08.229218Z",
     "shell.execute_reply": "2023-03-31T14:40:08.228258Z",
     "shell.execute_reply.started": "2023-03-31T14:40:08.041332Z"
    },
    "jupyter": {
     "outputs_hidden": false
    }
   },
   "outputs": [],
   "source": [
    "import numpy as np \n",
    "import pandas as pd \n",
    "import tensorflow as tf # Libreria para aprendizaje automático\n",
    "import os\n",
    "import re \n",
    "\n",
    "from PIL import Image # Librería de edición de imágenes\n",
    "from tqdm import tqdm # librería para monitorear las funciones y sus tiempos de ejecución.\n",
    "import cv2 # Librería Open-CV para python.\n",
    "\n",
    "from skimage import segmentation\n",
    "from glob import glob\n",
    "from collections import defaultdict # Define un diccionario\n",
    "import matplotlib.pyplot as plt\n",
    "import seaborn as sns\n",
    "\n",
    "sns.set_theme()\n",
    "sns.set(font_scale = 2)\n",
    "\n",
    "from ipywidgets import interact"
   ]
  },
  {
   "attachments": {},
   "cell_type": "markdown",
   "metadata": {
    "_cell_guid": "ead84576-d40c-4322-af33-11dcb6fac46d",
    "_uuid": "12a083b4-e404-45a7-a34b-00505fda9f1c"
   },
   "source": [
    "## 1. Cargar la base de datos \n",
    "\n",
    "Sobre los datos:\n",
    "* Hay una pequeña anormalidad en la convención de nombres de las máscaras.\n",
    "* Algunas imágenes no tienen sus correspondientes máscaras.\n",
    "\n",
    "Comprobación de las radiografías y sus respectivas máscaras"
   ]
  },
  {
   "cell_type": "code",
   "execution_count": 2,
   "metadata": {
    "_cell_guid": "97cb7e8e-a383-4f1d-a717-aed2d95b957f",
    "_uuid": "fe58016f-8476-4635-a1e0-3a51f9cdb7bd",
    "execution": {
     "iopub.execute_input": "2023-03-31T03:18:10.437003Z",
     "iopub.status.busy": "2023-03-31T03:18:10.436451Z",
     "iopub.status.idle": "2023-03-31T03:18:11.657776Z",
     "shell.execute_reply": "2023-03-31T03:18:11.656826Z",
     "shell.execute_reply.started": "2023-03-31T03:18:10.436965Z"
    },
    "jupyter": {
     "outputs_hidden": false
    }
   },
   "outputs": [
    {
     "data": {
      "text/html": [
       "<div>\n",
       "<style scoped>\n",
       "    .dataframe tbody tr th:only-of-type {\n",
       "        vertical-align: middle;\n",
       "    }\n",
       "\n",
       "    .dataframe tbody tr th {\n",
       "        vertical-align: top;\n",
       "    }\n",
       "\n",
       "    .dataframe thead th {\n",
       "        text-align: right;\n",
       "    }\n",
       "</style>\n",
       "<table border=\"1\" class=\"dataframe\">\n",
       "  <thead>\n",
       "    <tr style=\"text-align: right;\">\n",
       "      <th></th>\n",
       "      <th>image_path</th>\n",
       "      <th>mask_path</th>\n",
       "    </tr>\n",
       "  </thead>\n",
       "  <tbody>\n",
       "    <tr>\n",
       "      <th>0</th>\n",
       "      <td>data/Lung Segmentation/CXR_png/MCUCXR_0023_0.png</td>\n",
       "      <td>data/Lung Segmentation/masks/MCUCXR_0023_0.png</td>\n",
       "    </tr>\n",
       "    <tr>\n",
       "      <th>1</th>\n",
       "      <td>data/Lung Segmentation/CXR_png/CHNCXR_0286_0.png</td>\n",
       "      <td>data/Lung Segmentation/masks/CHNCXR_0286_0_mas...</td>\n",
       "    </tr>\n",
       "    <tr>\n",
       "      <th>2</th>\n",
       "      <td>data/Lung Segmentation/CXR_png/CHNCXR_0022_0.png</td>\n",
       "      <td>data/Lung Segmentation/masks/CHNCXR_0022_0_mas...</td>\n",
       "    </tr>\n",
       "    <tr>\n",
       "      <th>3</th>\n",
       "      <td>data/Lung Segmentation/CXR_png/CHNCXR_0067_0.png</td>\n",
       "      <td>data/Lung Segmentation/masks/CHNCXR_0067_0_mas...</td>\n",
       "    </tr>\n",
       "    <tr>\n",
       "      <th>4</th>\n",
       "      <td>data/Lung Segmentation/CXR_png/CHNCXR_0572_1.png</td>\n",
       "      <td>data/Lung Segmentation/masks/CHNCXR_0572_1_mas...</td>\n",
       "    </tr>\n",
       "  </tbody>\n",
       "</table>\n",
       "</div>"
      ],
      "text/plain": [
       "                                         image_path  \\\n",
       "0  data/Lung Segmentation/CXR_png/MCUCXR_0023_0.png   \n",
       "1  data/Lung Segmentation/CXR_png/CHNCXR_0286_0.png   \n",
       "2  data/Lung Segmentation/CXR_png/CHNCXR_0022_0.png   \n",
       "3  data/Lung Segmentation/CXR_png/CHNCXR_0067_0.png   \n",
       "4  data/Lung Segmentation/CXR_png/CHNCXR_0572_1.png   \n",
       "\n",
       "                                           mask_path  \n",
       "0     data/Lung Segmentation/masks/MCUCXR_0023_0.png  \n",
       "1  data/Lung Segmentation/masks/CHNCXR_0286_0_mas...  \n",
       "2  data/Lung Segmentation/masks/CHNCXR_0022_0_mas...  \n",
       "3  data/Lung Segmentation/masks/CHNCXR_0067_0_mas...  \n",
       "4  data/Lung Segmentation/masks/CHNCXR_0572_1_mas...  "
      ]
     },
     "execution_count": 2,
     "metadata": {},
     "output_type": "execute_result"
    }
   ],
   "source": [
    "# Declarando los directorios de las imágenes\n",
    "DIR = \"data/\"\n",
    "\n",
    "lung_image_paths = glob(os.path.join(DIR,\"Lung Segmentation/CXR_png/*.png\")) # Directorio de las imagenes radiográficas.\n",
    "mask_image_paths = glob(os.path.join(DIR,\"Lung Segmentation/masks/*.png\")) # Directorio de las máscaras, que indican la localización de pulmones.\n",
    "\n",
    "related_paths = defaultdict(list)\n",
    "\n",
    "# Combinando las imágenes de 1 para 1\n",
    "for img_path in lung_image_paths:\n",
    "    img_match = re.search(\"CXR_png/(.*)\\.png$\", img_path)\n",
    "    if img_match:\n",
    "        img_name = img_match.group(1)\n",
    "    for mask_path in mask_image_paths:\n",
    "        mask_match = re.search(img_name, mask_path)\n",
    "        if mask_match:\n",
    "            related_paths[\"image_path\"].append(img_path)\n",
    "            related_paths[\"mask_path\"].append(mask_path)\n",
    "\n",
    "paths_df = pd.DataFrame.from_dict(related_paths)\n",
    "paths_df.head()"
   ]
  },
  {
   "cell_type": "code",
   "execution_count": 3,
   "metadata": {
    "_cell_guid": "adf8bddf-1372-4fd3-b625-791f81e24666",
    "_uuid": "cd373fb9-395d-4d67-8ebe-dced71a2b533",
    "execution": {
     "iopub.execute_input": "2023-03-31T03:18:11.659834Z",
     "iopub.status.busy": "2023-03-31T03:18:11.659251Z",
     "iopub.status.idle": "2023-03-31T03:18:14.631312Z",
     "shell.execute_reply": "2023-03-31T03:18:14.630332Z",
     "shell.execute_reply.started": "2023-03-31T03:18:11.659798Z"
    },
    "jupyter": {
     "outputs_hidden": false
    }
   },
   "outputs": [
    {
     "data": {
      "application/vnd.jupyter.widget-view+json": {
       "model_id": "7712305b4dae4a53a2784467e24cc02b",
       "version_major": 2,
       "version_minor": 0
      },
      "text/plain": [
       "interactive(children=(IntSlider(value=351, description='xray_num', max=703), Output()), _dom_classes=('widget-…"
      ]
     },
     "metadata": {},
     "output_type": "display_data"
    }
   ],
   "source": [
    "Nimgs = paths_df.shape[0] # Número total de imagenes\n",
    "@interact(xray_num = (0,Nimgs-1,1))\n",
    "def plot_pair_img_mask(xray_num):\n",
    "    img_path = paths_df[\"image_path\"][xray_num]\n",
    "    mask_path = paths_df[\"mask_path\"][xray_num]\n",
    "\n",
    "    img = Image.open(img_path)\n",
    "    mask = Image.open(mask_path)\n",
    "    \n",
    " ## Visualizar imagen e independientemente su máscara\n",
    "    fig = plt.figure(figsize = (10,10))\n",
    "\n",
    "    ax1 = fig.add_subplot(2,2,1)\n",
    "    ax1.imshow(img, cmap = \"gray\")\n",
    "    plt.title(\"Original\");\n",
    "    plt.axis('off')\n",
    "    \n",
    "    ax2 = fig.add_subplot(2,2,2)\n",
    "    plt.axis('off')\n",
    "    ax2.imshow(mask, cmap = \"viridis\")\n",
    "    plt.title(\"Máscara real\");\n",
    "    fig.show()\n",
    "\n",
    "    plt.figure(figsize = (5,5))\n",
    "    plt.imshow(img, cmap = \"gray\")\n",
    "    edges_est = segmentation.clear_border(np.squeeze(mask))\n",
    "    plt.contour(edges_est,[0.5],colors=['red'])\n",
    "    plt.axis('off')\n",
    "    plt.show()"
   ]
  },
  {
   "attachments": {},
   "cell_type": "markdown",
   "metadata": {
    "_cell_guid": "353cad3c-cb50-4d1e-b2c2-65aad93cad62",
    "_uuid": "976f5a19-97da-44f7-9da1-33e1680b2fb3"
   },
   "source": [
    "## 2. Preparación de los datos  \n",
    "En este paso crearemos una función para tratar las imágenes de rayos X y las máscaras. Este proceso es necesario para poder preprocesar y normalizar las imágenes.  \n",
    "Utilizaremos la biblioteca `cv2` para redimensionar las imágenes y las máscaras."
   ]
  },
  {
   "cell_type": "code",
   "execution_count": 4,
   "metadata": {
    "_cell_guid": "f9773670-b53f-446f-86fa-1b7ebb52e9f5",
    "_uuid": "8dfeffea-b25e-481d-9386-428f0abda1d2",
    "execution": {
     "iopub.execute_input": "2023-03-31T04:04:57.913162Z",
     "iopub.status.busy": "2023-03-31T04:04:57.912745Z",
     "iopub.status.idle": "2023-03-31T04:05:09.864307Z",
     "shell.execute_reply": "2023-03-31T04:05:09.862867Z",
     "shell.execute_reply.started": "2023-03-31T04:04:57.913112Z"
    },
    "jupyter": {
     "outputs_hidden": false
    }
   },
   "outputs": [
    {
     "name": "stderr",
     "output_type": "stream",
     "text": [
      "100%|██████████| 704/704 [00:56<00:00, 12.48it/s]\n",
      "100%|██████████| 704/704 [00:41<00:00, 16.79it/s]\n"
     ]
    }
   ],
   "source": [
    "img_side_size = 256 # tamaño de las imágenes a procesar.\n",
    "\n",
    "def prepare_train_test(df = pd.DataFrame(), resize_shape = tuple(), color_mode = \"rgb\"):\n",
    "    img_array = list()\n",
    "    mask_array = list()\n",
    "\n",
    "    # Preparando Imagenes\n",
    "    for image_path in tqdm(paths_df.image_path):\n",
    "        resized_image = cv2.resize(cv2.imread(image_path),resize_shape) # Reescalando las imagenes a una resolución dada por el parámetro resize_shape\n",
    "        resized_image = resized_image/255. # Normalizamos las intensidades de la imágen a valores entre 0 y 1. \n",
    "        # Procesar según el tipo de imagen (Color --> RGB | escala de grises --> Gray)\n",
    "        if color_mode == \"gray\":\n",
    "            img_array.append(resized_image[:,:,0])\n",
    "        elif color_mode == \"rgb\":\n",
    "            img_array.append(resized_image[:,:,:])\n",
    "            \n",
    "    # Preparando las mascaras\n",
    "    for mask_path in tqdm(paths_df.mask_path):\n",
    "        resized_mask = cv2.resize(cv2.imread(mask_path),resize_shape)\n",
    "        resized_mask = resized_mask/255.\n",
    "        mask_array.append(resized_mask[:,:,0])\n",
    "\n",
    "    return img_array, mask_array\n",
    "\n",
    "img_array, mask_array = prepare_train_test(df = paths_df, resize_shape = (img_side_size,img_side_size), color_mode = \"gray\")"
   ]
  },
  {
   "attachments": {},
   "cell_type": "markdown",
   "metadata": {
    "_cell_guid": "1ce168ee-4d5e-4897-8901-1340a563c59c",
    "_uuid": "16f7556f-802a-49b9-be6a-4fdb263d0f79"
   },
   "source": [
    "## 3. Imágenes de entrenamiento y de prueba\n",
    "Separación de los datos de entrenamiento y de prueba"
   ]
  },
  {
   "cell_type": "code",
   "execution_count": 5,
   "metadata": {
    "_cell_guid": "7dce0c4e-a684-4dc8-9b01-038a664ff53c",
    "_uuid": "0d74326e-613f-4c07-8528-ebaf89f2adf1",
    "execution": {
     "iopub.execute_input": "2023-03-31T03:25:14.276186Z",
     "iopub.status.busy": "2023-03-31T03:25:14.275804Z",
     "iopub.status.idle": "2023-03-31T03:25:14.627089Z",
     "shell.execute_reply": "2023-03-31T03:25:14.625988Z",
     "shell.execute_reply.started": "2023-03-31T03:25:14.276154Z"
    },
    "jupyter": {
     "outputs_hidden": false
    }
   },
   "outputs": [],
   "source": [
    "from sklearn.model_selection import train_test_split # Función para separar el conjunto de entrenamiento y de test.\n",
    "img_train, img_test, mask_train, mask_test = train_test_split(img_array, mask_array, test_size = 0.2, random_state= 42)\n",
    "\n",
    "# Se realiza un reshape para asegurar la forma del tensor adecuada: #img x W x H x C | donde W es el ancho de las imagenes, H es el alto y C el número de canales (gray C=1, RGB C=3)\n",
    "\n",
    "img_train = np.array(img_train).reshape(len(img_train), img_side_size, img_side_size, 1)\n",
    "img_test = np.array(img_test).reshape(len(img_test), img_side_size, img_side_size, 1)\n",
    "mask_train = np.array(mask_train).reshape(len(mask_train), img_side_size, img_side_size, 1)\n",
    "mask_test = np.array(mask_test).reshape(len(mask_test), img_side_size, img_side_size, 1)"
   ]
  },
  {
   "attachments": {},
   "cell_type": "markdown",
   "metadata": {
    "_cell_guid": "cf2de2de-21a1-4a9a-ad2c-5c18452c0212",
    "_uuid": "a37bf47b-7ff7-4460-a40a-402f8ce4c1b9"
   },
   "source": [
    "## 4. Construyendo una red U-net\n",
    "\n",
    "* Las métricas utilizadas para evaluar los resultados son el coeficiente Dice e IoU (Intersection over Union):\n",
    "\n",
    "<div style=\"width:100%;text-align: center;\">\n",
    "<img src=\"https://www.researchgate.net/publication/328671987/figure/fig4/AS:688210103529478@1541093483784/Calculation-of-the-Dice-similarity-coefficient-The-deformed-contour-of-the-liver-from.ppm\" width=\"500\" height=\"300\"/>\n",
    "</div>\n",
    "\n",
    "<div style=\"width:100%;text-align: center;\">\n",
    "<img src=\"https://i.imgur.com/yJp0n0n.png\" width=\"500\" height=\"300\"/>\n",
    "</div>"
   ]
  },
  {
   "cell_type": "code",
   "execution_count": 6,
   "metadata": {
    "_cell_guid": "2c47c23f-bb34-43df-b3d0-56dd2a08f6b9",
    "_uuid": "fd3a063e-7045-4bfd-8961-15531db4dc15",
    "execution": {
     "iopub.execute_input": "2023-03-31T15:35:39.056179Z",
     "iopub.status.busy": "2023-03-31T15:35:39.055815Z",
     "iopub.status.idle": "2023-03-31T15:35:39.065696Z",
     "shell.execute_reply": "2023-03-31T15:35:39.064637Z",
     "shell.execute_reply.started": "2023-03-31T15:35:39.056147Z"
    },
    "jupyter": {
     "outputs_hidden": false
    }
   },
   "outputs": [],
   "source": [
    "# Función que calcula la medida Dice \n",
    "def dice_coef(y_true, y_pred):\n",
    "    y_true_f = keras.flatten(y_true)\n",
    "    y_pred_f = keras.flatten(y_pred)\n",
    "    intersection = keras.sum(y_true_f * y_pred_f)\n",
    "    return (2. * intersection + 1) / (keras.sum(y_true_f) + keras.sum(y_pred_f) + 1)\n",
    "\n",
    "# Función que calcula la pérdida según el Dice.\n",
    "def dice_coef_loss(y_true, y_pred):\n",
    "    return -dice_coef(y_true, y_pred)\n",
    "\n",
    "# Función Dice para test\n",
    "def dice_coef_test(y_true, y_pred):\n",
    "    y_true_f = y_true.flatten()\n",
    "    y_pred_f = y_pred.flatten()\n",
    "    union = np.sum(y_true_f) + np.sum(y_pred_f)\n",
    "    if union==0: return 1\n",
    "    intersection = np.sum(y_true_f * y_pred_f)\n",
    "    return 2. * intersection / union\n",
    "\n",
    "# Intersection over Union metric\n",
    "def IOU(y_true,y_pred):\n",
    "    intersection = np.sum(y_true * y_pred)\n",
    "    sum_ = np.sum(y_true) + np.sum(y_pred)\n",
    "    jac = (intersection + 1) / (sum_ - intersection + 1)\n",
    "    return jac"
   ]
  },
  {
   "attachments": {},
   "cell_type": "markdown",
   "metadata": {
    "_cell_guid": "e1b01c89-5268-4fad-b9c7-12b3ec6bec19",
    "_uuid": "299552cb-6e54-4048-86d8-8a42ae580584"
   },
   "source": [
    "* Conv2D: Para crear las capas de convolución 2D, utilizaremos los siguientes filtros = [32, 64, 256 y 512]. Esta capa crea un núcleo de convolución que ayuda a producir un tensor de salida."
   ]
  },
  {
   "cell_type": "code",
   "execution_count": 22,
   "metadata": {
    "_cell_guid": "5baa0f2d-819f-4b03-9870-91d67eb21a95",
    "_uuid": "fcbb261b-97d4-44e0-ab58-e916cd7e78fd",
    "execution": {
     "iopub.execute_input": "2023-03-31T03:25:26.354223Z",
     "iopub.status.busy": "2023-03-31T03:25:26.353846Z",
     "iopub.status.idle": "2023-03-31T03:25:26.373397Z",
     "shell.execute_reply": "2023-03-31T03:25:26.372405Z",
     "shell.execute_reply.started": "2023-03-31T03:25:26.354191Z"
    },
    "jupyter": {
     "outputs_hidden": false
    }
   },
   "outputs": [],
   "source": [
    "from keras.models import *\n",
    "from keras.layers import *\n",
    "from keras.optimizers import *\n",
    "from keras import backend as keras\n",
    "from keras.preprocessing.image import ImageDataGenerator\n",
    "from keras.callbacks import ModelCheckpoint, LearningRateScheduler\n",
    "from tensorflow.keras.activations import *\n",
    "from tensorflow.keras.optimizers import Adam\n",
    "\n",
    "\n",
    "def unet(input_size=(img_side_size,img_side_size,1)):\n",
    "    inputs = Input(input_size)\n",
    "    \"\"\"\n",
    "    codifica la imagen en una representación abstracta de las características de la imagen aplicando \n",
    "    una secuencia de bloques convolucionales que disminuyen gradualmente la altura y la anchura de la representación\n",
    "    \"\"\"\n",
    "    # codificador (parte izquierda de la “U”)\n",
    "    conv1 = Conv2D(32, (3, 3), activation='relu', padding='same')(inputs)\n",
    "    conv1 = Conv2D(32, (3, 3), activation='relu', padding='same')(conv1)\n",
    "    pool1 = MaxPooling2D(pool_size=(2, 2))(conv1)\n",
    "\n",
    "    conv2 = Conv2D(64, (3, 3), activation='relu', padding='same')(pool1)\n",
    "    conv2 = Conv2D(64, (3, 3), activation='relu', padding='same')(conv2)\n",
    "    pool2 = MaxPooling2D(pool_size=(2, 2))(conv2)\n",
    "\n",
    "    conv3 = Conv2D(128, (3, 3), activation='relu', padding='same')(pool2)\n",
    "    conv3 = Conv2D(128, (3, 3), activation='relu', padding='same')(conv3)\n",
    "    pool3 = MaxPooling2D(pool_size=(2, 2))(conv3)\n",
    "\n",
    "    conv4 = Conv2D(256, (3, 3), activation='relu', padding='same')(pool3)\n",
    "    conv4 = Conv2D(256, (3, 3), activation='relu', padding='same')(conv4)\n",
    "    pool4 = MaxPooling2D(pool_size=(2, 2))(conv4)\n",
    "\n",
    "    conv5 = Conv2D(512, (3, 3), activation='relu', padding='same')(pool4)\n",
    "    conv5 = Conv2D(512, (3, 3), activation='relu', padding='same')(conv5)\n",
    "    \"\"\"\n",
    "    decodifica la representación de la imagen en una máscara binaria aplicando una secuencia de convoluciones ascendentes.\n",
    "    que aumenta gradualmente la altura y la anchura de la representación hasta el tamaño de la imagen original y disminuye el número de \n",
    "    de canales al número de clases que estamos segmentando\n",
    "    \"\"\"\n",
    "    # decodificador (parte derecha de la “U”)\n",
    "    up6 = concatenate([Conv2DTranspose(256, (2, 2), strides=(2, 2), padding='same')(conv5), conv4], axis=3)\n",
    "    conv6 = Conv2D(256, (3, 3), activation='relu', padding='same')(up6)\n",
    "    conv6 = Conv2D(256, (3, 3), activation='relu', padding='same')(conv6)\n",
    "\n",
    "    up7 = concatenate([Conv2DTranspose(128, (2, 2), strides=(2, 2), padding='same')(conv6), conv3], axis=3)\n",
    "    conv7 = Conv2D(128, (3, 3), activation='relu', padding='same')(up7)\n",
    "    conv7 = Conv2D(128, (3, 3), activation='relu', padding='same')(conv7)\n",
    "\n",
    "    up8 = concatenate([Conv2DTranspose(64, (2, 2), strides=(2, 2), padding='same')(conv7), conv2], axis=3)\n",
    "    conv8 = Conv2D(64, (3, 3), activation='relu', padding='same')(up8)\n",
    "    conv8 = Conv2D(64, (3, 3), activation='relu', padding='same')(conv8)\n",
    "\n",
    "    up9 = concatenate([Conv2DTranspose(32, (2, 2), strides=(2, 2), padding='same')(conv8), conv1], axis=3)\n",
    "    conv9 = Conv2D(32, (3, 3), activation='relu', padding='same')(up9)\n",
    "    conv9 = Conv2D(32, (3, 3), activation='relu', padding='same')(conv9)\n",
    "    \n",
    "    #\n",
    "    conv10 = Conv2D(1, (1, 1), activation='sigmoid')(conv9)\n",
    "\n",
    "    return Model(inputs=[inputs], outputs=[conv10])"
   ]
  },
  {
   "cell_type": "code",
   "execution_count": null,
   "metadata": {},
   "outputs": [],
   "source": [
    "classical_model = unet(input_size=(img_side_size,img_side_size,1)) # Creamos el modelo Clásico\n"
   ]
  },
  {
   "attachments": {},
   "cell_type": "markdown",
   "metadata": {
    "_cell_guid": "8ef785b8-adb5-4cd8-85f8-9f9ceb4d043c",
    "_uuid": "ebe7888b-a7aa-4572-95fc-492d42bfbd23"
   },
   "source": [
    "# **Hybrid Unet Classical encoder - Quantum decoder**"
   ]
  },
  {
   "cell_type": "code",
   "execution_count": 7,
   "metadata": {},
   "outputs": [],
   "source": [
    "IBM_TOKEN = 'XXXXX'"
   ]
  },
  {
   "attachments": {},
   "cell_type": "markdown",
   "metadata": {
    "_cell_guid": "2bcfd293-7b47-47b7-8aed-266203653ce7",
    "_uuid": "3ed9835c-e3eb-48f9-b219-a801638b9561"
   },
   "source": [
    "**Q-node as a layer Conv in 2D:**"
   ]
  },
  {
   "cell_type": "code",
   "execution_count": 11,
   "metadata": {
    "execution": {
     "iopub.execute_input": "2023-04-13T14:39:27.590916Z",
     "iopub.status.busy": "2023-04-13T14:39:27.590511Z",
     "iopub.status.idle": "2023-04-13T14:39:28.536655Z",
     "shell.execute_reply": "2023-04-13T14:39:28.535436Z",
     "shell.execute_reply.started": "2023-04-13T14:39:27.590881Z"
    }
   },
   "outputs": [
    {
     "name": "stdout",
     "output_type": "stream",
     "text": [
      "Python 3.9.16\n"
     ]
    }
   ],
   "source": [
    "!python --version"
   ]
  },
  {
   "cell_type": "code",
   "execution_count": null,
   "metadata": {},
   "outputs": [],
   "source": [
    "%pip install pennylane==0.30.0"
   ]
  },
  {
   "cell_type": "code",
   "execution_count": 12,
   "metadata": {},
   "outputs": [
    {
     "name": "stdout",
     "output_type": "stream",
     "text": [
      "Requirement already satisfied: pennylane-qiskit in /Users/luis.ruiz/miniconda3/envs/tf/lib/python3.9/site-packages (0.30.1)\n",
      "Requirement already satisfied: mthree>=0.17 in /Users/luis.ruiz/miniconda3/envs/tf/lib/python3.9/site-packages (from pennylane-qiskit) (2.5.1)\n",
      "Requirement already satisfied: numpy in /Users/luis.ruiz/miniconda3/envs/tf/lib/python3.9/site-packages (from pennylane-qiskit) (1.23.5)\n",
      "Requirement already satisfied: qiskit>=0.32 in /Users/luis.ruiz/miniconda3/envs/tf/lib/python3.9/site-packages (from pennylane-qiskit) (0.43.0)\n",
      "Requirement already satisfied: pennylane>=0.30 in /Users/luis.ruiz/miniconda3/envs/tf/lib/python3.9/site-packages (from pennylane-qiskit) (0.30.0)\n",
      "Requirement already satisfied: networkx>=2.2 in /Users/luis.ruiz/miniconda3/envs/tf/lib/python3.9/site-packages (from pennylane-qiskit) (3.1)\n",
      "Requirement already satisfied: qiskit-ibm-provider in /Users/luis.ruiz/miniconda3/envs/tf/lib/python3.9/site-packages (from pennylane-qiskit) (0.5.3)\n",
      "Requirement already satisfied: qiskit-ibm-runtime in /Users/luis.ruiz/miniconda3/envs/tf/lib/python3.9/site-packages (from pennylane-qiskit) (0.9.4)\n",
      "Requirement already satisfied: orjson>=3.0.0 in /Users/luis.ruiz/miniconda3/envs/tf/lib/python3.9/site-packages (from mthree>=0.17->pennylane-qiskit) (3.8.12)\n",
      "Requirement already satisfied: cython>=0.29 in /Users/luis.ruiz/miniconda3/envs/tf/lib/python3.9/site-packages (from mthree>=0.17->pennylane-qiskit) (0.29.34)\n",
      "Requirement already satisfied: psutil in /Users/luis.ruiz/miniconda3/envs/tf/lib/python3.9/site-packages (from mthree>=0.17->pennylane-qiskit) (5.9.5)\n",
      "Requirement already satisfied: qiskit-ibmq-provider>=0.19.2 in /Users/luis.ruiz/miniconda3/envs/tf/lib/python3.9/site-packages (from mthree>=0.17->pennylane-qiskit) (0.20.2)\n",
      "Requirement already satisfied: qiskit-terra>=0.21 in /Users/luis.ruiz/miniconda3/envs/tf/lib/python3.9/site-packages (from mthree>=0.17->pennylane-qiskit) (0.24.0)\n",
      "Requirement already satisfied: scipy>=1.3 in /Users/luis.ruiz/miniconda3/envs/tf/lib/python3.9/site-packages (from mthree>=0.17->pennylane-qiskit) (1.9.1)\n",
      "Requirement already satisfied: autoray>=0.3.1 in /Users/luis.ruiz/miniconda3/envs/tf/lib/python3.9/site-packages (from pennylane>=0.30->pennylane-qiskit) (0.6.3)\n",
      "Requirement already satisfied: semantic-version>=2.7 in /Users/luis.ruiz/miniconda3/envs/tf/lib/python3.9/site-packages (from pennylane>=0.30->pennylane-qiskit) (2.10.0)\n",
      "Requirement already satisfied: rustworkx in /Users/luis.ruiz/miniconda3/envs/tf/lib/python3.9/site-packages (from pennylane>=0.30->pennylane-qiskit) (0.12.1)\n",
      "Requirement already satisfied: requests in /Users/luis.ruiz/miniconda3/envs/tf/lib/python3.9/site-packages (from pennylane>=0.30->pennylane-qiskit) (2.28.2)\n",
      "Requirement already satisfied: appdirs in /Users/luis.ruiz/miniconda3/envs/tf/lib/python3.9/site-packages (from pennylane>=0.30->pennylane-qiskit) (1.4.4)\n",
      "Requirement already satisfied: pennylane-lightning>=0.30 in /Users/luis.ruiz/miniconda3/envs/tf/lib/python3.9/site-packages (from pennylane>=0.30->pennylane-qiskit) (0.30.0)\n",
      "Requirement already satisfied: autograd in /Users/luis.ruiz/miniconda3/envs/tf/lib/python3.9/site-packages (from pennylane>=0.30->pennylane-qiskit) (1.5)\n",
      "Requirement already satisfied: toml in /Users/luis.ruiz/miniconda3/envs/tf/lib/python3.9/site-packages (from pennylane>=0.30->pennylane-qiskit) (0.10.2)\n",
      "Requirement already satisfied: cachetools in /Users/luis.ruiz/miniconda3/envs/tf/lib/python3.9/site-packages (from pennylane>=0.30->pennylane-qiskit) (5.3.0)\n",
      "Requirement already satisfied: qiskit-aer==0.12.0 in /Users/luis.ruiz/miniconda3/envs/tf/lib/python3.9/site-packages (from qiskit>=0.32->pennylane-qiskit) (0.12.0)\n",
      "Requirement already satisfied: websockets>=10.0 in /Users/luis.ruiz/miniconda3/envs/tf/lib/python3.9/site-packages (from qiskit-ibmq-provider>=0.19.2->mthree>=0.17->pennylane-qiskit) (11.0.3)\n",
      "Requirement already satisfied: requests-ntlm<=1.1.0 in /Users/luis.ruiz/miniconda3/envs/tf/lib/python3.9/site-packages (from qiskit-ibmq-provider>=0.19.2->mthree>=0.17->pennylane-qiskit) (1.1.0)\n",
      "Requirement already satisfied: python-dateutil>=2.8.0 in /Users/luis.ruiz/miniconda3/envs/tf/lib/python3.9/site-packages (from qiskit-ibmq-provider>=0.19.2->mthree>=0.17->pennylane-qiskit) (2.8.2)\n",
      "Requirement already satisfied: websocket-client>=1.5.1 in /Users/luis.ruiz/miniconda3/envs/tf/lib/python3.9/site-packages (from qiskit-ibmq-provider>=0.19.2->mthree>=0.17->pennylane-qiskit) (1.5.1)\n",
      "Requirement already satisfied: urllib3>=1.21.1 in /Users/luis.ruiz/miniconda3/envs/tf/lib/python3.9/site-packages (from qiskit-ibmq-provider>=0.19.2->mthree>=0.17->pennylane-qiskit) (1.26.15)\n",
      "Requirement already satisfied: symengine<0.10,>=0.9 in /Users/luis.ruiz/miniconda3/envs/tf/lib/python3.9/site-packages (from qiskit-terra>=0.21->mthree>=0.17->pennylane-qiskit) (0.9.2)\n",
      "Requirement already satisfied: sympy>=1.3 in /Users/luis.ruiz/miniconda3/envs/tf/lib/python3.9/site-packages (from qiskit-terra>=0.21->mthree>=0.17->pennylane-qiskit) (1.12)\n",
      "Requirement already satisfied: stevedore>=3.0.0 in /Users/luis.ruiz/miniconda3/envs/tf/lib/python3.9/site-packages (from qiskit-terra>=0.21->mthree>=0.17->pennylane-qiskit) (5.1.0)\n",
      "Requirement already satisfied: ply>=3.10 in /Users/luis.ruiz/miniconda3/envs/tf/lib/python3.9/site-packages (from qiskit-terra>=0.21->mthree>=0.17->pennylane-qiskit) (3.11)\n",
      "Requirement already satisfied: dill>=0.3 in /Users/luis.ruiz/miniconda3/envs/tf/lib/python3.9/site-packages (from qiskit-terra>=0.21->mthree>=0.17->pennylane-qiskit) (0.3.6)\n",
      "Requirement already satisfied: typing-extensions>=4.3 in /Users/luis.ruiz/miniconda3/envs/tf/lib/python3.9/site-packages (from qiskit-ibm-provider->pennylane-qiskit) (4.5.0)\n",
      "Requirement already satisfied: ibm-platform-services>=0.22.6 in /Users/luis.ruiz/miniconda3/envs/tf/lib/python3.9/site-packages (from qiskit-ibm-runtime->pennylane-qiskit) (0.34.2)\n",
      "Requirement already satisfied: ibm-cloud-sdk-core<4.0.0,>=3.16.5 in /Users/luis.ruiz/miniconda3/envs/tf/lib/python3.9/site-packages (from ibm-platform-services>=0.22.6->qiskit-ibm-runtime->pennylane-qiskit) (3.16.5)\n",
      "Requirement already satisfied: six>=1.5 in /Users/luis.ruiz/miniconda3/envs/tf/lib/python3.9/site-packages (from python-dateutil>=2.8.0->qiskit-ibmq-provider>=0.19.2->mthree>=0.17->pennylane-qiskit) (1.16.0)\n",
      "Requirement already satisfied: idna<4,>=2.5 in /Users/luis.ruiz/miniconda3/envs/tf/lib/python3.9/site-packages (from requests->pennylane>=0.30->pennylane-qiskit) (3.4)\n",
      "Requirement already satisfied: charset-normalizer<4,>=2 in /Users/luis.ruiz/miniconda3/envs/tf/lib/python3.9/site-packages (from requests->pennylane>=0.30->pennylane-qiskit) (3.1.0)\n",
      "Requirement already satisfied: certifi>=2017.4.17 in /Users/luis.ruiz/miniconda3/envs/tf/lib/python3.9/site-packages (from requests->pennylane>=0.30->pennylane-qiskit) (2022.12.7)\n",
      "Requirement already satisfied: ntlm-auth>=1.0.2 in /Users/luis.ruiz/miniconda3/envs/tf/lib/python3.9/site-packages (from requests-ntlm<=1.1.0->qiskit-ibmq-provider>=0.19.2->mthree>=0.17->pennylane-qiskit) (1.5.0)\n",
      "Requirement already satisfied: cryptography>=1.3 in /Users/luis.ruiz/miniconda3/envs/tf/lib/python3.9/site-packages (from requests-ntlm<=1.1.0->qiskit-ibmq-provider>=0.19.2->mthree>=0.17->pennylane-qiskit) (40.0.2)\n",
      "Requirement already satisfied: future>=0.15.2 in /Users/luis.ruiz/miniconda3/envs/tf/lib/python3.9/site-packages (from autograd->pennylane>=0.30->pennylane-qiskit) (0.18.3)\n",
      "Requirement already satisfied: cffi>=1.12 in /Users/luis.ruiz/miniconda3/envs/tf/lib/python3.9/site-packages (from cryptography>=1.3->requests-ntlm<=1.1.0->qiskit-ibmq-provider>=0.19.2->mthree>=0.17->pennylane-qiskit) (1.15.1)\n",
      "Requirement already satisfied: PyJWT<3.0.0,>=2.4.0 in /Users/luis.ruiz/miniconda3/envs/tf/lib/python3.9/site-packages (from ibm-cloud-sdk-core<4.0.0,>=3.16.5->ibm-platform-services>=0.22.6->qiskit-ibm-runtime->pennylane-qiskit) (2.7.0)\n",
      "Requirement already satisfied: pbr!=2.1.0,>=2.0.0 in /Users/luis.ruiz/miniconda3/envs/tf/lib/python3.9/site-packages (from stevedore>=3.0.0->qiskit-terra>=0.21->mthree>=0.17->pennylane-qiskit) (5.11.1)\n",
      "Requirement already satisfied: mpmath>=0.19 in /Users/luis.ruiz/miniconda3/envs/tf/lib/python3.9/site-packages (from sympy>=1.3->qiskit-terra>=0.21->mthree>=0.17->pennylane-qiskit) (1.3.0)\n",
      "Requirement already satisfied: pycparser in /Users/luis.ruiz/miniconda3/envs/tf/lib/python3.9/site-packages (from cffi>=1.12->cryptography>=1.3->requests-ntlm<=1.1.0->qiskit-ibmq-provider>=0.19.2->mthree>=0.17->pennylane-qiskit) (2.21)\n",
      "Note: you may need to restart the kernel to use updated packages.\n"
     ]
    }
   ],
   "source": [
    "%pip install pennylane-qiskit"
   ]
  },
  {
   "cell_type": "code",
   "execution_count": 9,
   "metadata": {
    "_cell_guid": "7da2d32c-b227-44fc-ada0-5fdd1989b09d",
    "_uuid": "5242c95c-726f-493c-a43f-c14e5d59c4b9",
    "execution": {
     "iopub.execute_input": "2023-04-13T14:30:11.576962Z",
     "iopub.status.busy": "2023-04-13T14:30:11.576587Z",
     "iopub.status.idle": "2023-04-13T14:30:11.589754Z",
     "shell.execute_reply": "2023-04-13T14:30:11.588260Z",
     "shell.execute_reply.started": "2023-04-13T14:30:11.576929Z"
    },
    "jupyter": {
     "outputs_hidden": false
    }
   },
   "outputs": [],
   "source": [
    "import pennylane as qml\n",
    "from pennylane import numpy as np\n",
    "from pennylane.templates import RandomLayers\n",
    "import tensorflow as tf\n",
    "# Enable eager execution\n",
    "tf.config.run_functions_eagerly(True)\n",
    "from tensorflow import keras\n",
    "%matplotlib inline\n",
    "import matplotlib.pyplot as plt\n",
    "from pennylane.templates import AngleEmbedding, StronglyEntanglingLayers\n",
    "from tensorflow.keras.layers import Layer"
   ]
  },
  {
   "cell_type": "code",
   "execution_count": 10,
   "metadata": {
    "_cell_guid": "ff9599d9-fbaa-415b-98ad-4e637cb39464",
    "_uuid": "52ba87f0-279f-4648-8d75-dc30c190a0cf",
    "execution": {
     "iopub.execute_input": "2023-04-13T14:56:20.260186Z",
     "iopub.status.busy": "2023-04-13T14:56:20.259207Z",
     "iopub.status.idle": "2023-04-13T14:56:20.275398Z",
     "shell.execute_reply": "2023-04-13T14:56:20.273972Z",
     "shell.execute_reply.started": "2023-04-13T14:56:20.260147Z"
    },
    "jupyter": {
     "outputs_hidden": false
    }
   },
   "outputs": [],
   "source": [
    "class QuantumConv2D(Layer):\n",
    "    def __init__(self, filters, kernel_size, output_dim, activation=None, padding=\"same\", **kwargs):\n",
    "        super().__init__(**kwargs)\n",
    "\n",
    "        self.filters = filters\n",
    "        self.kernel_size = kernel_size\n",
    "        self.output_dim = output_dim\n",
    "        self.activation = activation\n",
    "        self.padding = padding\n",
    "\n",
    "    def _quantum_conv2d(self, inputs, weights):\n",
    "        \"\"\"Applies a 2D convolution with a quantum circuit.\"\"\"\n",
    "\n",
    "        # Reshape weights\n",
    "        weight_matrix = weights[0]\n",
    "        bias = weights[1]\n",
    "\n",
    "        weight_matrix = np.reshape(weight_matrix, self.kernel_size + (self.filters,))\n",
    "\n",
    "            \n",
    "        dev = qml.device('qiskit.aer', wires=5000, backend='aer_simulator_stabilizer', shots=1)\n",
    "\n",
    "        # Apply convolution\n",
    "        qnode = qml.QNode(self._circuit, dev)\n",
    "        qconv = qnode(inputs, weight_matrix, range(inputs.shape[3]), self.filters)\n",
    "\n",
    "        # Reshape output\n",
    "        output = np.reshape(qconv, inputs.shape[:-1] + (self.output_dim,))\n",
    "\n",
    "        # Apply bias\n",
    "        output = output + bias\n",
    "\n",
    "        # Apply activation function\n",
    "        if self.activation is not None:\n",
    "            output = self.activation(output)\n",
    "\n",
    "        return output\n",
    "    \n",
    "    dev = qml.device('qiskit.aer', wires=5000, backend='aer_simulator_stabilizer', shots=1)\n",
    "    @qml.qnode(dev)\n",
    "    def _circuit(inputs, weight_matrix, wires, filters):\n",
    "        qml.templates.AngleEmbedding(inputs, wires=wires)\n",
    "\n",
    "        for i in range(filters):\n",
    "            qml.templates.BasicEntanglerLayers(wires=wires)\n",
    "\n",
    "            # Get the probability of measuring the final state in the |1> computational basis state\n",
    "            prob = qml.probs(wires=wires)\n",
    "\n",
    "            # Multiply each qubit by the appropriate filter coefficient\n",
    "            for j in range(wires):\n",
    "                qml.RY(weight_matrix[:,:,j,i], wires=j)\n",
    "\n",
    "            # Measure the final state in the computational basis\n",
    "            qml.BasisState(np.array([1]*wires), wires=wires)\n",
    "\n",
    "            # Multiply by the probability of measuring the final state in the |1> computational basis state\n",
    "            qml.math.multiply(prob, wires=wires)\n",
    "\n",
    "        return qml.expval(qml.PauliZ(wires=wires))\n",
    "\n",
    "\n",
    "    def get_output_shape_for(self, input_shape):\n",
    "        \"\"\"Computes the output shape of the layer.\"\"\"\n",
    "        return tuple(list(input_shape[:-1]) + [self.output_dim])\n",
    "\n",
    "    def get_config(self):\n",
    "        \"\"\"Returns the configuration of the layer.\"\"\"\n",
    "        config = {\n",
    "            \"filters\": self.filters,\n",
    "            \"kernel_size\": self.kernel_size,\n",
    "            \"output_dim\": self.output_dim,\n",
    "            \"activation\": self.activation,\n",
    "            \"padding\": self.padding,\n",
    "        }\n",
    "        base_config = super().get_config()\n",
    "        return dict(list(base_config.items()) + list(config.items()))\n",
    "\n",
    "    def get_weights(self):\n",
    "        \"\"\"Returns the weights of the layer.\"\"\"\n",
    "        return self.weights\n",
    "\n",
    "    def set_weights(self, weights):\n",
    "        \"\"\"Sets the weights of the layer.\"\"\"\n",
    "        self.weights = weights\n"
   ]
  },
  {
   "cell_type": "code",
   "execution_count": 11,
   "metadata": {
    "_cell_guid": "401ef65d-c48a-4d84-b461-b5943d5b1bb6",
    "_uuid": "6608e42d-3369-436f-a11d-f8e52a6535a2",
    "execution": {
     "iopub.execute_input": "2023-04-13T14:55:32.803168Z",
     "iopub.status.busy": "2023-04-13T14:55:32.802765Z",
     "iopub.status.idle": "2023-04-13T14:55:38.826631Z",
     "shell.execute_reply": "2023-04-13T14:55:38.825646Z",
     "shell.execute_reply.started": "2023-04-13T14:55:32.803123Z"
    },
    "jupyter": {
     "outputs_hidden": false
    }
   },
   "outputs": [],
   "source": [
    "from keras.models import *\n",
    "from keras.layers import *\n",
    "from keras.optimizers import *\n",
    "from keras import backend as keras\n",
    "from tensorflow.keras.activations import *\n",
    "from tensorflow.keras.optimizers import Adam\n",
    "\n",
    "def hunet(input_size=(img_side_size,img_side_size,1)):\n",
    "    inputs = Input(input_size)\n",
    "    \n",
    "    \"\"\"\n",
    "    codifica la imagen en una representación abstracta de las características de la imagen aplicando \n",
    "    una secuencia de bloques convolucionales que disminuyen gradualmente la altura y la anchura de la representación\n",
    "    \"\"\"\n",
    "    # codificador (parte izquierda de la “U”)\n",
    "    conv1 = QuantumConv2D(32, (3, 3), output_dim=64, activation='relu', padding='same')(inputs)\n",
    "    conv1 = QuantumConv2D(32, (3, 3), output_dim=64, activation='relu', padding='same')(conv1)\n",
    "    pool1 = MaxPooling2D(pool_size=(2, 2))(conv1)\n",
    "\n",
    "    conv2 = QuantumConv2D(64, (3, 3), output_dim=64, activation='relu', padding='same')(pool1)\n",
    "    conv2 = QuantumConv2D(64, (3, 3), output_dim=64, activation='relu', padding='same')(conv2)\n",
    "    pool2 = MaxPooling2D(pool_size=(2, 2))(conv2)\n",
    "\n",
    "    conv3 = QuantumConv2D(128, (3, 3), output_dim=64, activation='relu', padding='same')(pool2)\n",
    "    conv3 = QuantumConv2D(128, (3, 3), output_dim=64, activation='relu', padding='same')(conv3)\n",
    "    pool3 = MaxPooling2D(pool_size=(2, 2))(conv3)\n",
    "\n",
    "    conv4 = QuantumConv2D(256, (3, 3), output_dim=64, activation='relu', padding='same')(pool3)\n",
    "    conv4 = QuantumConv2D(256, (3, 3), output_dim=64, activation='relu', padding='same')(conv4)\n",
    "    pool4 = MaxPooling2D(pool_size=(2, 2))(conv4)\n",
    "\n",
    "    conv5 = QuantumConv2D(512, (3, 3), output_dim=64, activation='relu', padding='same')(pool4)\n",
    "    conv5 = QuantumConv2D(512, (3, 3), output_dim=64, activation='relu', padding='same')(conv5)\n",
    "    \n",
    "    \"\"\"\n",
    "    decodifica la representación de la imagen en una máscara binaria aplicando una secuencia de convoluciones ascendentes.\n",
    "    que aumenta gradualmente la altura y la anchura de la representación hasta el tamaño de la imagen original y disminuye el número de \n",
    "    de canales al número de clases que estamos segmentando\n",
    "    \"\"\"\n",
    "    \n",
    "    # decodificador (parte derecha de la “U”)\n",
    "    up6 = concatenate([Conv2DTranspose(256, (2, 2), strides=(2, 2), padding='same')(conv5), conv4], axis=3)\n",
    "    conv6 = Conv2D(256, (3, 3), activation='relu', padding='same')(up6)\n",
    "    conv6 = Conv2D(256, (3, 3), activation='relu', padding='same')(conv6)\n",
    "\n",
    "    up7 = concatenate([Conv2DTranspose(128, (2, 2), strides=(2, 2), padding='same')(conv6), conv3], axis=3)\n",
    "    conv7 = Conv2D(128, (3, 3), activation='relu', padding='same')(up7)\n",
    "    conv7 = Conv2D(128, (3, 3), activation='relu', padding='same')(conv7)\n",
    "\n",
    "    up8 = concatenate([Conv2DTranspose(64, (2, 2), strides=(2, 2), padding='same')(conv7), conv2], axis=3)\n",
    "    conv8 = Conv2D(64, (3, 3), activation='relu', padding='same')(up8)\n",
    "    conv8 = Conv2D(64, (3, 3), activation='relu', padding='same')(conv8)\n",
    "\n",
    "    up9 = concatenate([Conv2DTranspose(32, (2, 2), strides=(2, 2), padding='same')(conv8), conv1], axis=3)\n",
    "    conv9 = Conv2D(32, (3, 3), activation='relu', padding='same')(up9)\n",
    "    conv9 = Conv2D(32, (3, 3), activation='relu', padding='same')(conv9)\n",
    "    \n",
    "    #\n",
    "    conv10 = Conv2D(1, (1, 1), activation='sigmoid')(conv9)\n",
    "\n",
    "    return Model(inputs=[inputs], outputs=[conv10])\n"
   ]
  },
  {
   "cell_type": "code",
   "execution_count": 12,
   "metadata": {
    "notebookRunGroups": {
     "groupValue": ""
    },
    "scrolled": true
   },
   "outputs": [],
   "source": [
    "model = hunet(input_size=(img_side_size,img_side_size,1)) # Creamos el modelo hibrido"
   ]
  },
  {
   "cell_type": "code",
   "execution_count": 16,
   "metadata": {
    "_cell_guid": "a54f2ff5-b6c7-434a-a174-1bfb2842a48e",
    "_uuid": "6591b273-83cc-4173-8228-36200b0329b3",
    "execution": {
     "iopub.execute_input": "2023-04-13T14:55:53.922845Z",
     "iopub.status.busy": "2023-04-13T14:55:53.922098Z",
     "iopub.status.idle": "2023-04-13T14:55:57.461842Z",
     "shell.execute_reply": "2023-04-13T14:55:57.460152Z",
     "shell.execute_reply.started": "2023-04-13T14:55:53.922806Z"
    },
    "jupyter": {
     "outputs_hidden": false
    },
    "scrolled": true
   },
   "outputs": [
    {
     "name": "stderr",
     "output_type": "stream",
     "text": [
      "WARNING:absl:At this time, the v2.11+ optimizer `tf.keras.optimizers.Adam` runs slowly on M1/M2 Macs, please use the legacy Keras optimizer instead, located at `tf.keras.optimizers.legacy.Adam`.\n",
      "WARNING:absl:There is a known slowdown when using v2.11+ Keras optimizers on M1/M2 Macs. Falling back to the legacy Keras optimizer, i.e., `tf.keras.optimizers.legacy.Adam`.\n"
     ]
    }
   ],
   "source": [
    "\n",
    "model.compile( # Opciones de compilación\n",
    "    optimizer=Adam(learning_rate=5*1e-4), \n",
    "    loss=\"binary_crossentropy\",\n",
    "    metrics=[dice_coef, 'binary_accuracy']\n",
    ")"
   ]
  },
  {
   "cell_type": "code",
   "execution_count": 17,
   "metadata": {
    "scrolled": false
   },
   "outputs": [
    {
     "name": "stdout",
     "output_type": "stream",
     "text": [
      "Model: \"model\"\n",
      "__________________________________________________________________________________________________\n",
      " Layer (type)                   Output Shape         Param #     Connected to                     \n",
      "==================================================================================================\n",
      " input_1 (InputLayer)           [(None, 256, 256, 1  0           []                               \n",
      "                                )]                                                                \n",
      "                                                                                                  \n",
      " quantum_conv2d (QuantumConv2D)  (None, 256, 256, 1)  0          ['input_1[0][0]']                \n",
      "                                                                                                  \n",
      " quantum_conv2d_1 (QuantumConv2  (None, 256, 256, 1)  0          ['quantum_conv2d[0][0]']         \n",
      " D)                                                                                               \n",
      "                                                                                                  \n",
      " max_pooling2d (MaxPooling2D)   (None, 128, 128, 1)  0           ['quantum_conv2d_1[0][0]']       \n",
      "                                                                                                  \n",
      " quantum_conv2d_2 (QuantumConv2  (None, 128, 128, 1)  0          ['max_pooling2d[0][0]']          \n",
      " D)                                                                                               \n",
      "                                                                                                  \n",
      " quantum_conv2d_3 (QuantumConv2  (None, 128, 128, 1)  0          ['quantum_conv2d_2[0][0]']       \n",
      " D)                                                                                               \n",
      "                                                                                                  \n",
      " max_pooling2d_1 (MaxPooling2D)  (None, 64, 64, 1)   0           ['quantum_conv2d_3[0][0]']       \n",
      "                                                                                                  \n",
      " quantum_conv2d_4 (QuantumConv2  (None, 64, 64, 1)   0           ['max_pooling2d_1[0][0]']        \n",
      " D)                                                                                               \n",
      "                                                                                                  \n",
      " quantum_conv2d_5 (QuantumConv2  (None, 64, 64, 1)   0           ['quantum_conv2d_4[0][0]']       \n",
      " D)                                                                                               \n",
      "                                                                                                  \n",
      " max_pooling2d_2 (MaxPooling2D)  (None, 32, 32, 1)   0           ['quantum_conv2d_5[0][0]']       \n",
      "                                                                                                  \n",
      " quantum_conv2d_6 (QuantumConv2  (None, 32, 32, 1)   0           ['max_pooling2d_2[0][0]']        \n",
      " D)                                                                                               \n",
      "                                                                                                  \n",
      " quantum_conv2d_7 (QuantumConv2  (None, 32, 32, 1)   0           ['quantum_conv2d_6[0][0]']       \n",
      " D)                                                                                               \n",
      "                                                                                                  \n",
      " max_pooling2d_3 (MaxPooling2D)  (None, 16, 16, 1)   0           ['quantum_conv2d_7[0][0]']       \n",
      "                                                                                                  \n",
      " quantum_conv2d_8 (QuantumConv2  (None, 16, 16, 1)   0           ['max_pooling2d_3[0][0]']        \n",
      " D)                                                                                               \n",
      "                                                                                                  \n",
      " quantum_conv2d_9 (QuantumConv2  (None, 16, 16, 1)   0           ['quantum_conv2d_8[0][0]']       \n",
      " D)                                                                                               \n",
      "                                                                                                  \n",
      " conv2d_transpose (Conv2DTransp  (None, 32, 32, 256)  1280       ['quantum_conv2d_9[0][0]']       \n",
      " ose)                                                                                             \n",
      "                                                                                                  \n",
      " concatenate (Concatenate)      (None, 32, 32, 257)  0           ['conv2d_transpose[0][0]',       \n",
      "                                                                  'quantum_conv2d_7[0][0]']       \n",
      "                                                                                                  \n",
      " conv2d (Conv2D)                (None, 32, 32, 256)  592384      ['concatenate[0][0]']            \n",
      "                                                                                                  \n",
      " conv2d_1 (Conv2D)              (None, 32, 32, 256)  590080      ['conv2d[0][0]']                 \n",
      "                                                                                                  \n",
      " conv2d_transpose_1 (Conv2DTran  (None, 64, 64, 128)  131200     ['conv2d_1[0][0]']               \n",
      " spose)                                                                                           \n",
      "                                                                                                  \n",
      " concatenate_1 (Concatenate)    (None, 64, 64, 129)  0           ['conv2d_transpose_1[0][0]',     \n",
      "                                                                  'quantum_conv2d_5[0][0]']       \n",
      "                                                                                                  \n",
      " conv2d_2 (Conv2D)              (None, 64, 64, 128)  148736      ['concatenate_1[0][0]']          \n",
      "                                                                                                  \n",
      " conv2d_3 (Conv2D)              (None, 64, 64, 128)  147584      ['conv2d_2[0][0]']               \n",
      "                                                                                                  \n",
      " conv2d_transpose_2 (Conv2DTran  (None, 128, 128, 64  32832      ['conv2d_3[0][0]']               \n",
      " spose)                         )                                                                 \n",
      "                                                                                                  \n",
      " concatenate_2 (Concatenate)    (None, 128, 128, 65  0           ['conv2d_transpose_2[0][0]',     \n",
      "                                )                                 'quantum_conv2d_3[0][0]']       \n",
      "                                                                                                  \n",
      " conv2d_4 (Conv2D)              (None, 128, 128, 64  37504       ['concatenate_2[0][0]']          \n",
      "                                )                                                                 \n",
      "                                                                                                  \n",
      " conv2d_5 (Conv2D)              (None, 128, 128, 64  36928       ['conv2d_4[0][0]']               \n",
      "                                )                                                                 \n",
      "                                                                                                  \n",
      " conv2d_transpose_3 (Conv2DTran  (None, 256, 256, 32  8224       ['conv2d_5[0][0]']               \n",
      " spose)                         )                                                                 \n",
      "                                                                                                  \n",
      " concatenate_3 (Concatenate)    (None, 256, 256, 33  0           ['conv2d_transpose_3[0][0]',     \n",
      "                                )                                 'quantum_conv2d_1[0][0]']       \n",
      "                                                                                                  \n",
      " conv2d_6 (Conv2D)              (None, 256, 256, 32  9536        ['concatenate_3[0][0]']          \n",
      "                                )                                                                 \n",
      "                                                                                                  \n",
      " conv2d_7 (Conv2D)              (None, 256, 256, 32  9248        ['conv2d_6[0][0]']               \n",
      "                                )                                                                 \n",
      "                                                                                                  \n",
      " conv2d_8 (Conv2D)              (None, 256, 256, 1)  33          ['conv2d_7[0][0]']               \n",
      "                                                                                                  \n",
      "==================================================================================================\n",
      "Total params: 1,745,569\n",
      "Trainable params: 1,745,569\n",
      "Non-trainable params: 0\n",
      "__________________________________________________________________________________________________\n"
     ]
    }
   ],
   "source": [
    "model.summary()"
   ]
  },
  {
   "cell_type": "code",
   "execution_count": 28,
   "metadata": {
    "scrolled": true
   },
   "outputs": [
    {
     "name": "stdout",
     "output_type": "stream",
     "text": [
      "0.30.0\n"
     ]
    }
   ],
   "source": [
    "import pennylane as qml\n",
    "print(qml.__version__)"
   ]
  },
  {
   "attachments": {},
   "cell_type": "markdown",
   "metadata": {
    "_cell_guid": "d7fe6d48-d991-4b28-8a43-b9fb78b44187",
    "_uuid": "8c298b4d-bd20-4101-894a-8ff54449ef82"
   },
   "source": [
    "## 5. Entrenamiento del modelo U-Net\n",
    "\n",
    "Para nuestro entrenamiento utilizaremos `epochs = 30`, que es el número de veces que recorreremos el conjunto de lotes de entrenamiento."
   ]
  },
  {
   "cell_type": "code",
   "execution_count": 30,
   "metadata": {},
   "outputs": [],
   "source": [
    "import os\n",
    "os.environ['CUDA_VISIBLE_DEVICES'] = '0'"
   ]
  },
  {
   "cell_type": "code",
   "execution_count": 18,
   "metadata": {
    "_cell_guid": "e369763e-f767-4b47-b497-7634aab6256c",
    "_uuid": "84c6dd44-0ed0-455b-9e4a-53f95a67b9e1",
    "execution": {
     "iopub.status.busy": "2023-03-31T03:21:21.400796Z",
     "iopub.status.idle": "2023-03-31T03:21:21.401279Z",
     "shell.execute_reply": "2023-03-31T03:21:21.401059Z",
     "shell.execute_reply.started": "2023-03-31T03:21:21.401035Z"
    },
    "jupyter": {
     "outputs_hidden": false
    }
   },
   "outputs": [
    {
     "name": "stdout",
     "output_type": "stream",
     "text": [
      "Epoch 1/30\n"
     ]
    },
    {
     "name": "stderr",
     "output_type": "stream",
     "text": [
      "/Users/luis.ruiz/miniconda3/envs/tf/lib/python3.9/site-packages/tensorflow/python/data/ops/structured_function.py:254: UserWarning: Even though the `tf.config.experimental_run_functions_eagerly` option is set, this option does not apply to tf.data functions. To force eager execution of tf.data functions, please use `tf.data.experimental.enable_debug_mode()`.\n",
      "  warnings.warn(\n"
     ]
    },
    {
     "name": "stdout",
     "output_type": "stream",
     "text": [
      "36/36 [==============================] - 15s 358ms/step - loss: 0.5962 - dice_coef: 0.2867 - binary_accuracy: 0.7292 - val_loss: 0.5507 - val_dice_coef: 0.2681 - val_binary_accuracy: 0.7506\n",
      "Epoch 2/30\n",
      "36/36 [==============================] - 12s 321ms/step - loss: 0.4574 - dice_coef: 0.3482 - binary_accuracy: 0.7450 - val_loss: 0.3980 - val_dice_coef: 0.4003 - val_binary_accuracy: 0.7506\n",
      "Epoch 3/30\n",
      "36/36 [==============================] - 11s 319ms/step - loss: 0.3654 - dice_coef: 0.4567 - binary_accuracy: 0.7822 - val_loss: 0.4044 - val_dice_coef: 0.4780 - val_binary_accuracy: 0.8666\n",
      "Epoch 4/30\n",
      "36/36 [==============================] - 12s 331ms/step - loss: 0.2523 - dice_coef: 0.6913 - binary_accuracy: 0.9052 - val_loss: 0.2390 - val_dice_coef: 0.7552 - val_binary_accuracy: 0.9089\n",
      "Epoch 5/30\n",
      "36/36 [==============================] - 11s 318ms/step - loss: 0.2060 - dice_coef: 0.7624 - binary_accuracy: 0.9196 - val_loss: 0.1901 - val_dice_coef: 0.7678 - val_binary_accuracy: 0.9268\n",
      "Epoch 6/30\n",
      "36/36 [==============================] - 11s 318ms/step - loss: 0.2019 - dice_coef: 0.7658 - binary_accuracy: 0.9205 - val_loss: 0.1817 - val_dice_coef: 0.7848 - val_binary_accuracy: 0.9310\n",
      "Epoch 7/30\n",
      "36/36 [==============================] - 12s 321ms/step - loss: 0.1850 - dice_coef: 0.7876 - binary_accuracy: 0.9277 - val_loss: 0.1674 - val_dice_coef: 0.8102 - val_binary_accuracy: 0.9355\n",
      "Epoch 8/30\n",
      "36/36 [==============================] - 11s 318ms/step - loss: 0.1609 - dice_coef: 0.8170 - binary_accuracy: 0.9381 - val_loss: 0.1559 - val_dice_coef: 0.8218 - val_binary_accuracy: 0.9416\n",
      "Epoch 9/30\n",
      "36/36 [==============================] - 12s 330ms/step - loss: 0.1458 - dice_coef: 0.8365 - binary_accuracy: 0.9443 - val_loss: 0.1320 - val_dice_coef: 0.8436 - val_binary_accuracy: 0.9503\n",
      "Epoch 10/30\n",
      "36/36 [==============================] - 12s 328ms/step - loss: 0.1392 - dice_coef: 0.8435 - binary_accuracy: 0.9471 - val_loss: 0.1262 - val_dice_coef: 0.8415 - val_binary_accuracy: 0.9531\n",
      "Epoch 11/30\n",
      "36/36 [==============================] - 12s 330ms/step - loss: 0.1311 - dice_coef: 0.8522 - binary_accuracy: 0.9510 - val_loss: 0.1161 - val_dice_coef: 0.8597 - val_binary_accuracy: 0.9562\n",
      "Epoch 12/30\n",
      "36/36 [==============================] - 12s 330ms/step - loss: 0.1218 - dice_coef: 0.8635 - binary_accuracy: 0.9540 - val_loss: 0.1120 - val_dice_coef: 0.8723 - val_binary_accuracy: 0.9580\n",
      "Epoch 13/30\n",
      "36/36 [==============================] - 12s 327ms/step - loss: 0.1151 - dice_coef: 0.8684 - binary_accuracy: 0.9567 - val_loss: 0.2844 - val_dice_coef: 0.6962 - val_binary_accuracy: 0.8877\n",
      "Epoch 14/30\n",
      "36/36 [==============================] - 12s 321ms/step - loss: 0.1378 - dice_coef: 0.8439 - binary_accuracy: 0.9474 - val_loss: 0.1199 - val_dice_coef: 0.8677 - val_binary_accuracy: 0.9548\n",
      "Epoch 15/30\n",
      "36/36 [==============================] - 11s 319ms/step - loss: 0.1189 - dice_coef: 0.8678 - binary_accuracy: 0.9550 - val_loss: 0.1072 - val_dice_coef: 0.8789 - val_binary_accuracy: 0.9591\n",
      "Epoch 16/30\n",
      "36/36 [==============================] - 12s 326ms/step - loss: 0.1063 - dice_coef: 0.8819 - binary_accuracy: 0.9600 - val_loss: 0.1039 - val_dice_coef: 0.8822 - val_binary_accuracy: 0.9607\n",
      "Epoch 17/30\n",
      "36/36 [==============================] - 11s 319ms/step - loss: 0.1021 - dice_coef: 0.8865 - binary_accuracy: 0.9616 - val_loss: 0.0968 - val_dice_coef: 0.8935 - val_binary_accuracy: 0.9638\n",
      "Epoch 18/30\n",
      "36/36 [==============================] - 12s 324ms/step - loss: 0.0986 - dice_coef: 0.8905 - binary_accuracy: 0.9631 - val_loss: 0.1011 - val_dice_coef: 0.8915 - val_binary_accuracy: 0.9621\n",
      "Epoch 19/30\n",
      "36/36 [==============================] - 12s 332ms/step - loss: 0.0977 - dice_coef: 0.8934 - binary_accuracy: 0.9634 - val_loss: 0.0923 - val_dice_coef: 0.8896 - val_binary_accuracy: 0.9657\n",
      "Epoch 20/30\n",
      "36/36 [==============================] - 12s 330ms/step - loss: 0.0944 - dice_coef: 0.8967 - binary_accuracy: 0.9644 - val_loss: 0.0890 - val_dice_coef: 0.9014 - val_binary_accuracy: 0.9664\n",
      "Epoch 21/30\n",
      "36/36 [==============================] - 12s 325ms/step - loss: 0.0932 - dice_coef: 0.8972 - binary_accuracy: 0.9649 - val_loss: 0.0882 - val_dice_coef: 0.8953 - val_binary_accuracy: 0.9666\n",
      "Epoch 22/30\n",
      "36/36 [==============================] - 11s 319ms/step - loss: 0.0899 - dice_coef: 0.8993 - binary_accuracy: 0.9661 - val_loss: 0.0919 - val_dice_coef: 0.8946 - val_binary_accuracy: 0.9646\n",
      "Epoch 23/30\n",
      "36/36 [==============================] - 11s 318ms/step - loss: 0.0918 - dice_coef: 0.8983 - binary_accuracy: 0.9652 - val_loss: 0.1091 - val_dice_coef: 0.8818 - val_binary_accuracy: 0.9588\n",
      "Epoch 24/30\n",
      "36/36 [==============================] - 12s 321ms/step - loss: 0.0998 - dice_coef: 0.8906 - binary_accuracy: 0.9622 - val_loss: 0.0868 - val_dice_coef: 0.8940 - val_binary_accuracy: 0.9674\n",
      "Epoch 25/30\n",
      "36/36 [==============================] - 12s 321ms/step - loss: 0.0856 - dice_coef: 0.9052 - binary_accuracy: 0.9678 - val_loss: 0.0862 - val_dice_coef: 0.8989 - val_binary_accuracy: 0.9671\n",
      "Epoch 26/30\n",
      "36/36 [==============================] - 11s 318ms/step - loss: 0.0869 - dice_coef: 0.9048 - binary_accuracy: 0.9673 - val_loss: 0.0835 - val_dice_coef: 0.9063 - val_binary_accuracy: 0.9683\n",
      "Epoch 27/30\n",
      "36/36 [==============================] - 12s 324ms/step - loss: 0.0828 - dice_coef: 0.9075 - binary_accuracy: 0.9687 - val_loss: 0.0796 - val_dice_coef: 0.9178 - val_binary_accuracy: 0.9698\n",
      "Epoch 28/30\n",
      "36/36 [==============================] - 12s 320ms/step - loss: 0.0795 - dice_coef: 0.9124 - binary_accuracy: 0.9700 - val_loss: 0.0817 - val_dice_coef: 0.9109 - val_binary_accuracy: 0.9687\n",
      "Epoch 29/30\n",
      "36/36 [==============================] - 11s 319ms/step - loss: 0.0792 - dice_coef: 0.9130 - binary_accuracy: 0.9702 - val_loss: 0.0789 - val_dice_coef: 0.9153 - val_binary_accuracy: 0.9698\n",
      "Epoch 30/30\n",
      "36/36 [==============================] - 11s 319ms/step - loss: 0.0798 - dice_coef: 0.9131 - binary_accuracy: 0.9699 - val_loss: 0.0760 - val_dice_coef: 0.9125 - val_binary_accuracy: 0.9710\n"
     ]
    }
   ],
   "source": [
    "# Callback, si después de 10 epocas, la pérdida no se reduce o cambia. Se para el entrenamiento de forma temprana.\n",
    "earlystopping = tf.keras.callbacks.EarlyStopping(\n",
    "    monitor='loss', \n",
    "    patience=10\n",
    ") \n",
    "\n",
    "history = model.fit(\n",
    "    x = img_train, \n",
    "    y = mask_train, \n",
    "    validation_data = (img_test, mask_test), \n",
    "    epochs = 30,\n",
    "    batch_size = 16,\n",
    "    callbacks = [earlystopping]\n",
    ")"
   ]
  },
  {
   "attachments": {},
   "cell_type": "markdown",
   "metadata": {
    "_cell_guid": "22631736-b9dd-4bd2-80bc-da5c53621566",
    "_uuid": "d4794b61-1bda-4950-8e81-edb222412b89"
   },
   "source": [
    "## Guardado del modelo en la salida"
   ]
  },
  {
   "cell_type": "code",
   "execution_count": 19,
   "metadata": {
    "_cell_guid": "33947b73-cb44-4298-8e2f-5da2193f128e",
    "_uuid": "5f510a10-7663-45b4-8194-1a5127c53b33",
    "execution": {
     "iopub.status.busy": "2023-03-31T03:21:21.402930Z",
     "iopub.status.idle": "2023-03-31T03:21:21.403418Z",
     "shell.execute_reply": "2023-03-31T03:21:21.403193Z",
     "shell.execute_reply.started": "2023-03-31T03:21:21.403170Z"
    },
    "jupyter": {
     "outputs_hidden": false
    }
   },
   "outputs": [],
   "source": [
    "model.save('./hybrid_classical_model_seg_local_Quantum_Encoder_30_epochs_v1.h5')"
   ]
  },
  {
   "attachments": {},
   "cell_type": "markdown",
   "metadata": {
    "_cell_guid": "b349af31-66d9-4e22-b604-60f5cb0f9f5a",
    "_uuid": "cb64e98e-a0f2-44f9-bbb1-f493db5cec75"
   },
   "source": [
    "### Visualización del resultado\n",
    "Aquí crearemos una función para visualizar la imagen de vista previa, la imagen de la máscara real, la superposición sobre la máscara real y la imagen original."
   ]
  },
  {
   "cell_type": "code",
   "execution_count": 20,
   "metadata": {
    "_cell_guid": "89be0efc-44f1-4b5e-a58f-89989aa9c7f5",
    "_uuid": "78d93f02-dfa1-4e31-9482-348b8745a9ae",
    "execution": {
     "iopub.status.busy": "2023-03-31T03:21:21.405193Z",
     "iopub.status.idle": "2023-03-31T03:21:21.405660Z",
     "shell.execute_reply": "2023-03-31T03:21:21.405440Z",
     "shell.execute_reply.started": "2023-03-31T03:21:21.405418Z"
    },
    "jupyter": {
     "outputs_hidden": false
    }
   },
   "outputs": [
    {
     "data": {
      "application/vnd.jupyter.widget-view+json": {
       "model_id": "736965eba3d7459ebf39ea9a45b7ff5a",
       "version_major": 2,
       "version_minor": 0
      },
      "text/plain": [
       "interactive(children=(IntSlider(value=70, description='img_num', max=140), Output()), _dom_classes=('widget-in…"
      ]
     },
     "metadata": {},
     "output_type": "display_data"
    }
   ],
   "source": [
    "Nimgs = img_test.shape[0] # Número total de imagenes\n",
    "img_array = img_test\n",
    "@interact(img_num = (0,Nimgs-1,1))\n",
    "def test_on_image( img_num ):\n",
    "    \"\"\" para datos de previsión >= .5 asignaremos 1, en caso contrario el valor será 0 # 6. métricas y validación  \n",
    "**Entropía cruzada (pérdida)**: para cuantificar la diferencia entre las dos distribuciones de probabilidad (entrenamiento y validación).\n",
    "* **Coeficiente de los dados**: El coeficiente de Dice es un estadístico utilizado para medir la similitud de dos muestras, una de las métricas más utilizadas en el contexto de la segmentación de imágenes.\"\"\"\n",
    "    pred = model.predict(img_array[img_num].reshape(1,img_side_size,img_side_size,1))\n",
    "    pred[pred>0.5] = 1.0\n",
    "    pred[pred<0.5] = 0.0\n",
    "    \n",
    "    dice = dice_coef_test(y_true = mask_test[img_num], y_pred = pred)\n",
    "    iou = IOU(y_true = mask_test[img_num], y_pred = pred)\n",
    "    fig = plt.figure(figsize = (15,10))\n",
    "    \n",
    "    plt.subplot(1,3,1)\n",
    "    plt.imshow(pred.reshape(img_side_size, img_side_size), cmap = \"PuBu\")\n",
    "    plt.title(\"Predicción\")\n",
    "    plt.axis(\"off\")\n",
    "    \n",
    "    plt.subplot(1,3,2)\n",
    "    plt.imshow(mask_test[img_num].reshape(img_side_size, img_side_size), cmap = \"viridis\")\n",
    "    plt.title(\"Máscara real\");\n",
    "    plt.axis(\"off\")\n",
    "    \n",
    "    plt.subplot(1,3,3)\n",
    "#     plt.figure(figsize = (5,5))\n",
    "    plt.imshow(img_array[img_num].reshape(img_side_size, img_side_size), cmap = \"gray\")\n",
    "    edges_est1 = segmentation.clear_border(np.squeeze(mask_test[img_num].reshape(img_side_size, img_side_size)))\n",
    "    edges_est2 = segmentation.clear_border(np.squeeze(pred.reshape(img_side_size, img_side_size)))\n",
    "    plt.contour(edges_est1,[0.5],colors=['red'])\n",
    "    plt.contour(edges_est2,[0.5],colors=['blue'])\n",
    "    \n",
    "    plt.title('Superposición')\n",
    "    plt.axis('off')\n",
    "#     plt.savefig('./prediction.png', bbox_inches='tight', pad_inches=0)\n",
    "    plt.suptitle('Dice: {:2.2%} and IOU: {:2.2%}'.format(dice,iou))\n",
    "    plt.show()\n",
    "    \n",
    "    return None"
   ]
  },
  {
   "attachments": {},
   "cell_type": "markdown",
   "metadata": {
    "_cell_guid": "d77f5e6f-c84c-477e-bc38-030bdf8ad0c9",
    "_uuid": "f200a5be-52af-4623-b4c7-f8f2da06ccf6"
   },
   "source": [
    "## 6. Métricas y validación  \n",
    "+ **Cross-entropy (pérdida)**: para cuantificar la diferencia entre las dos distribuciones de probabilidad (entrenamiento y validación).\n",
    "* **Coeficiente Dice**: El coeficiente de Dice es un estadístico utilizado para medir la similitud de dos muestras, una de las métricas más utilizadas en el contexto de la segmentación de imágenes."
   ]
  },
  {
   "cell_type": "code",
   "execution_count": 21,
   "metadata": {
    "_cell_guid": "4c1b1df4-94d6-42db-9371-85fbe9171918",
    "_uuid": "ea3e7423-374b-4fb4-8f35-3e640eceeb66",
    "execution": {
     "iopub.status.busy": "2023-03-31T03:21:21.407753Z",
     "iopub.status.idle": "2023-03-31T03:21:21.408841Z",
     "shell.execute_reply": "2023-03-31T03:21:21.408611Z",
     "shell.execute_reply.started": "2023-03-31T03:21:21.408587Z"
    },
    "jupyter": {
     "outputs_hidden": false
    }
   },
   "outputs": [
    {
     "data": {
      "image/png": "[encoded data removed]",
      "text/plain": [
       "<Figure size 1080x1080 with 2 Axes>"
      ]
     },
     "metadata": {
      "needs_background": "light"
     },
     "output_type": "display_data"
    }
   ],
   "source": [
    "def get_metrics(history):\n",
    "    fig = plt.figure(figsize = (15,15))\n",
    "    plt.subplot(2,2,1)\n",
    "    plt.plot(history.history[\"loss\"], label = \"loss entrenamiento\")\n",
    "    plt.plot(history.history[\"val_loss\"], label = \"loss validación\")\n",
    "    plt.title(\"Validación x Entrenamiento: Entropía binaria\", fontsize=18, y=1)\n",
    "    plt.legend()\n",
    "    plt.xlabel(\"Epoch\")\n",
    "    plt.ylabel(\"Entropia binaria\")\n",
    "\n",
    "    plt.subplot(2,2,2)\n",
    "    plt.plot(history.history[\"dice_coef\"], label = \"Coeficiente Dice entrenameinto\")\n",
    "    plt.plot(history.history[\"val_dice_coef\"], label = \"Coeficiente Dice validación\")\n",
    "    plt.title(\"Validación x Entrenamiento: Coeficiente Dice\", fontsize=18, y=1)\n",
    "    plt.legend()\n",
    "    plt.xlabel(\"Epoch\")\n",
    "    plt.ylabel(\"Coeficiente Dice\")\n",
    "    \n",
    "get_metrics(history = history)"
   ]
  },
  {
   "attachments": {},
   "cell_type": "markdown",
   "metadata": {
    "_cell_guid": "cf59e858-c975-4673-a372-1764a5a05398",
    "_uuid": "5e6a4716-baf3-4bd8-9c44-98377fa48095"
   },
   "source": [
    "### Comprobación de la validación de la prueba mediante el coeficiente Dice  \n",
    "Utilizaremos los datos de la prueba para hacer nuestra predicción y realizaremos el solapamiento entre la máscara predicha y la real. Se examinarán 141 imágenes."
   ]
  },
  {
   "cell_type": "code",
   "execution_count": 22,
   "metadata": {
    "_cell_guid": "0346b3a5-32ce-4740-8ab4-49d16a6fac3b",
    "_uuid": "37e3059b-2f00-449c-b6e4-082743cfdc90",
    "execution": {
     "iopub.status.busy": "2023-03-31T03:21:21.410095Z",
     "iopub.status.idle": "2023-03-31T03:21:21.410928Z",
     "shell.execute_reply": "2023-03-31T03:21:21.410707Z",
     "shell.execute_reply.started": "2023-03-31T03:21:21.410683Z"
    },
    "jupyter": {
     "outputs_hidden": false
    }
   },
   "outputs": [
    {
     "name": "stdout",
     "output_type": "stream",
     "text": [
      "5/5 [==============================] - 1s 267ms/step\n"
     ]
    },
    {
     "name": "stderr",
     "output_type": "stream",
     "text": [
      "100%|██████████| 141/141 [00:00<00:00, 2811.73it/s]\n"
     ]
    }
   ],
   "source": [
    "dice_coefs = list()\n",
    "pred = model.predict(img_test)\n",
    "pred[pred>=0.5] = 1\n",
    "pred[pred<0.5] = 0\n",
    "for i in tqdm(range(len(img_test))):\n",
    "    prediction = pred[i]\n",
    "    dice = dice_coef_test(y_true = mask_test[i], y_pred = prediction)\n",
    "    dice_coefs.append(dice)"
   ]
  },
  {
   "cell_type": "code",
   "execution_count": 23,
   "metadata": {
    "_cell_guid": "d5f7e7d9-c7be-4e18-b783-21d64748550a",
    "_uuid": "72bd49ab-9d25-4fe9-a3a4-8e3441ad0e7a",
    "execution": {
     "iopub.status.busy": "2023-03-31T03:21:21.412460Z",
     "iopub.status.idle": "2023-03-31T03:21:21.414368Z",
     "shell.execute_reply": "2023-03-31T03:21:21.414136Z",
     "shell.execute_reply.started": "2023-03-31T03:21:21.414111Z"
    },
    "jupyter": {
     "outputs_hidden": false
    }
   },
   "outputs": [
    {
     "name": "stdout",
     "output_type": "stream",
     "text": [
      "Mediana Coef. Dice: 0.9539605944343132\n"
     ]
    },
    {
     "data": {
      "image/png": "[encoded data removed]",
      "text/plain": [
       "<Figure size 720x504 with 1 Axes>"
      ]
     },
     "metadata": {
      "needs_background": "light"
     },
     "output_type": "display_data"
    }
   ],
   "source": [
    "fig, ax = plt.subplots(figsize =(10, 7))\n",
    "plt.hist(np.array(dice_coefs), bins = 50)\n",
    "plt.title(\"Distribución del Coeficiente Dice (141 imágenes)\",fontsize=20, y=1)\n",
    "plt.xlabel(\"Coeficiente Dice\");\n",
    "plt.ylabel(\"Número de imágenes\");\n",
    "print(f'Mediana Coef. Dice: {np.median(np.array(dice_coefs))}');\n",
    "plt.show()"
   ]
  },
  {
   "cell_type": "code",
   "execution_count": 24,
   "metadata": {
    "_cell_guid": "46ef42d3-f054-4a62-9581-93e8ce42561e",
    "_uuid": "b1a72537-6e2f-4a34-92a5-7fb8739d9db1",
    "execution": {
     "iopub.status.busy": "2023-03-31T03:21:21.415864Z",
     "iopub.status.idle": "2023-03-31T03:21:21.416348Z",
     "shell.execute_reply": "2023-03-31T03:21:21.416129Z",
     "shell.execute_reply.started": "2023-03-31T03:21:21.416106Z"
    },
    "jupyter": {
     "outputs_hidden": false
    },
    "scrolled": true
   },
   "outputs": [
    {
     "name": "stdout",
     "output_type": "stream",
     "text": [
      "Mediana Coef. Dice: 0.9539605944343132\n"
     ]
    },
    {
     "data": {
      "image/png": "[encoded data removed]",
      "text/plain": [
       "<Figure size 720x504 with 1 Axes>"
      ]
     },
     "metadata": {
      "needs_background": "light"
     },
     "output_type": "display_data"
    }
   ],
   "source": [
    "fig, ax = plt.subplots(figsize =(10, 7))\n",
    "plt.boxplot(np.array(dice_coefs))\n",
    "plt.title(\"Distribución del Coeficiente Dice (141 imágenes)\",fontsize=20, y=1)\n",
    "plt.ylabel(\"Coeficiente Dice\");\n",
    "print(f'Mediana Coef. Dice: {np.median(np.array(dice_coefs))}');\n",
    "plt.show()"
   ]
  },
  {
   "attachments": {},
   "cell_type": "markdown",
   "metadata": {
    "_cell_guid": "685a88fc-63c6-4907-b4ea-890698abcac8",
    "_uuid": "f78e3724-c247-4708-a4dc-053b08dc0443"
   },
   "source": [
    "# Load pre-trained model"
   ]
  },
  {
   "cell_type": "code",
   "execution_count": 25,
   "metadata": {
    "_cell_guid": "3d5c0601-e11b-4e2f-877d-f695d288a89d",
    "_uuid": "a816d61f-d2f6-4c34-9ad7-dff92ec93049",
    "execution": {
     "iopub.execute_input": "2023-04-09T20:32:10.441864Z",
     "iopub.status.busy": "2023-04-09T20:32:10.441474Z",
     "iopub.status.idle": "2023-04-09T20:32:10.734164Z",
     "shell.execute_reply": "2023-04-09T20:32:10.733173Z",
     "shell.execute_reply.started": "2023-04-09T20:32:10.441831Z"
    },
    "jupyter": {
     "outputs_hidden": false
    }
   },
   "outputs": [],
   "source": [
    "from tensorflow.keras.models import load_model\n",
    "import matplotlib.pyplot as plt\n",
    "from tqdm import tqdm # librería para monitorear las funciones y sus tiempos de ejecución.\n",
    "import cv2 # Librería Open-CV para python.\n",
    "from skimage import segmentation\n",
    "import numpy as np\n",
    "import tensorflow.keras.backend as K"
   ]
  },
  {
   "cell_type": "code",
   "execution_count": 26,
   "metadata": {
    "_cell_guid": "734db402-4c3b-4e38-843d-fc35e716cbd8",
    "_uuid": "49bc840d-6aac-454e-abb3-3b51a7467603",
    "execution": {
     "iopub.execute_input": "2023-04-09T20:37:43.677319Z",
     "iopub.status.busy": "2023-04-09T20:37:43.676614Z",
     "iopub.status.idle": "2023-04-09T20:37:43.683019Z",
     "shell.execute_reply": "2023-04-09T20:37:43.681826Z",
     "shell.execute_reply.started": "2023-04-09T20:37:43.677280Z"
    },
    "jupyter": {
     "outputs_hidden": false
    }
   },
   "outputs": [],
   "source": [
    "\n",
    "def load_trained_model():\n",
    "    try:\n",
    "        K.set_floatx('float64')\n",
    "        custom_objects = {'QuantumConv2D': QuantumConv2D, 'dice_coef': {}}\n",
    "        model_path = './hybrid_classical_model_seg_local_Quantum_Encoder_30_epochs_v1.h5'\n",
    "        model = load_model(model_path, custom_objects=custom_objects)\n",
    "        print('Model loaded OK')\n",
    "        return model\n",
    "\n",
    "    except Exception as e:\n",
    "        return {\"error\": \"No se puede cargar el modelo: \" + str(e)}\n"
   ]
  },
  {
   "cell_type": "code",
   "execution_count": 27,
   "metadata": {
    "_cell_guid": "bb0f1686-e734-471d-a99e-4e9946917d83",
    "_uuid": "1975786e-6efe-4bf2-bb8f-b5fd99a9f5de",
    "execution": {
     "iopub.execute_input": "2023-04-09T20:37:47.077855Z",
     "iopub.status.busy": "2023-04-09T20:37:47.077478Z",
     "iopub.status.idle": "2023-04-09T20:37:47.084921Z",
     "shell.execute_reply": "2023-04-09T20:37:47.083815Z",
     "shell.execute_reply.started": "2023-04-09T20:37:47.077824Z"
    },
    "jupyter": {
     "outputs_hidden": false
    }
   },
   "outputs": [
    {
     "name": "stdout",
     "output_type": "stream",
     "text": [
      "Model loaded OK\n"
     ]
    },
    {
     "data": {
      "text/plain": [
       "<keras.engine.functional.Functional at 0x299f978b0>"
      ]
     },
     "execution_count": 27,
     "metadata": {},
     "output_type": "execute_result"
    }
   ],
   "source": [
    "load_trained_model()"
   ]
  },
  {
   "cell_type": "code",
   "execution_count": 28,
   "metadata": {
    "_cell_guid": "83f96033-8e6f-4d27-9d16-65445b0cd1b3",
    "_uuid": "636de8b2-5e79-41e9-afae-b4f23317eaa5",
    "execution": {
     "iopub.execute_input": "2023-04-09T20:37:23.991194Z",
     "iopub.status.busy": "2023-04-09T20:37:23.990805Z",
     "iopub.status.idle": "2023-04-09T20:37:24.004510Z",
     "shell.execute_reply": "2023-04-09T20:37:24.003449Z",
     "shell.execute_reply.started": "2023-04-09T20:37:23.991162Z"
    },
    "jupyter": {
     "outputs_hidden": false
    }
   },
   "outputs": [],
   "source": [
    "# Definir la función de predicción\n",
    "def predict_image():\n",
    "    # Cargar el modelo entrenado\n",
    "    model = load_trained_model()\n",
    "    if isinstance(model, dict):\n",
    "        return model\n",
    "    \n",
    "    # Procesar la imagen\n",
    "    img_side_size = 256\n",
    "    img_path = './xr-lung-segmentation.jpeg'\n",
    "    img = cv2.imread(img_path)\n",
    "    if img is None:\n",
    "        return {\"error\": f\"No se pudo cargar la imagen: {img_path}\"}\n",
    "    img = cv2.resize(img, (img_side_size, img_side_size))\n",
    "    img = cv2.cvtColor(img, cv2.COLOR_BGR2GRAY)\n",
    "    img_array = np.array(img, dtype=np.float32) / 255.0  # Normalizar la imagen\n",
    "    \n",
    "    # Verificar que la imagen tenga el tamaño correcto\n",
    "    input_shape = model.input_shape[1:3]\n",
    "    if img.shape[:2] != input_shape:\n",
    "        return {\"error\": f\"El tamaño de la imagen no coincide con el tamaño de entrada del modelo: {img.shape} vs {input_shape}\"}\n",
    "    \n",
    "    # Realizar la predicción\n",
    "    pred = model.predict(img_array.reshape(1,img_side_size,img_side_size,1))\n",
    "    pred[pred>0.5] = 1.0\n",
    "    pred[pred<0.5] = 0.0\n",
    "    \n",
    "    # Crear la figura de matplotlib\n",
    "    fig = plt.figure(figsize=(15, 10))\n",
    "    \n",
    "    plt.subplot(1,3,1)\n",
    "    plt.imshow(pred.reshape(img_side_size, img_side_size), cmap = \"viridis\")\n",
    "    plt.title(\"Prediction\")\n",
    "    plt.axis(\"off\")   \n",
    "    \n",
    "    plt.subplot(1,3,2)\n",
    "    plt.imshow(img.reshape(img_side_size, img_side_size), cmap='gray')\n",
    "    edges_est = segmentation.clear_border(np.squeeze(pred.reshape(img_side_size, img_side_size)))\n",
    "    plt.contour(edges_est,[0.5],colors=['blue'])\n",
    "    plt.title('Original Image')\n",
    "    plt.axis('off')\n",
    "    \n",
    "    plt.savefig('./results.png', bbox_inches='tight', pad_inches=0)\n",
    "    \n",
    "    # Devolver los resultados\n",
    "    return {\"plot\": fig}"
   ]
  },
  {
   "cell_type": "code",
   "execution_count": 29,
   "metadata": {
    "_cell_guid": "da7d2a52-937e-4674-a059-62f59444d4e4",
    "_uuid": "30beb355-cc27-42e0-a561-f3239286c01e",
    "execution": {
     "iopub.execute_input": "2023-04-09T20:36:02.090644Z",
     "iopub.status.busy": "2023-04-09T20:36:02.090226Z",
     "iopub.status.idle": "2023-04-09T20:36:02.096943Z",
     "shell.execute_reply": "2023-04-09T20:36:02.095685Z",
     "shell.execute_reply.started": "2023-04-09T20:36:02.090606Z"
    },
    "jupyter": {
     "outputs_hidden": false
    }
   },
   "outputs": [],
   "source": [
    "def predict():\n",
    "    results = []\n",
    "\n",
    "    # Manejar errores si no se puede procesar la imagen\n",
    "    try:\n",
    "        result = predict_image()\n",
    "    except Exception as e:\n",
    "        return {\"error\": \"No se puede procesar la imagen: \" + str(e)}\n",
    "\n",
    "    results.append(result)\n",
    "    \n",
    "    return {\"results\": results}"
   ]
  },
  {
   "cell_type": "code",
   "execution_count": 30,
   "metadata": {
    "_cell_guid": "77226381-21da-4459-bfcc-391f1f9371b7",
    "_uuid": "7f8d0644-fb52-4151-988a-79561b6cf5fc",
    "execution": {
     "iopub.execute_input": "2023-04-09T20:36:04.472104Z",
     "iopub.status.busy": "2023-04-09T20:36:04.471619Z",
     "iopub.status.idle": "2023-04-09T20:36:04.550222Z",
     "shell.execute_reply": "2023-04-09T20:36:04.549167Z",
     "shell.execute_reply.started": "2023-04-09T20:36:04.472062Z"
    },
    "jupyter": {
     "outputs_hidden": false
    }
   },
   "outputs": [
    {
     "name": "stdout",
     "output_type": "stream",
     "text": [
      "Model loaded OK\n",
      "1/1 [==============================] - 0s 30ms/step\n"
     ]
    },
    {
     "name": "stderr",
     "output_type": "stream",
     "text": [
      "/Users/luis.ruiz/miniconda3/envs/tf/lib/python3.9/site-packages/tensorflow/python/data/ops/structured_function.py:254: UserWarning: Even though the `tf.config.experimental_run_functions_eagerly` option is set, this option does not apply to tf.data functions. To force eager execution of tf.data functions, please use `tf.data.experimental.enable_debug_mode()`.\n",
      "  warnings.warn(\n"
     ]
    },
    {
     "data": {
      "text/plain": [
       "{'results': [{'plot': <Figure size 1080x720 with 2 Axes>}]}"
      ]
     },
     "execution_count": 30,
     "metadata": {},
     "output_type": "execute_result"
    },
    {
     "data": {
      "image/png": "[encoded data removed]",
      "text/plain": [
       "<Figure size 1080x720 with 2 Axes>"
      ]
     },
     "metadata": {
      "needs_background": "light"
     },
     "output_type": "display_data"
    }
   ],
   "source": [
    "predict()"
   ]
  },
  {
   "cell_type": "code",
   "execution_count": null,
   "metadata": {},
   "outputs": [],
   "source": []
  }
 ],
 "metadata": {
  "kernelspec": {
   "display_name": "Python 3",
   "language": "python",
   "name": "python3"
  },
  "language_info": {
   "codemirror_mode": {
    "name": "ipython",
    "version": 3
   },
   "file_extension": ".py",
   "mimetype": "text/x-python",
   "name": "python",
   "nbconvert_exporter": "python",
   "pygments_lexer": "ipython3",
   "version": "3.9.16"
  }
 },
 "nbformat": 4,
 "nbformat_minor": 4
}
